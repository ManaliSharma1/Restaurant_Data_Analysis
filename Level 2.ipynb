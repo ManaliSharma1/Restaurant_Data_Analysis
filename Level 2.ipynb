{
 "cells": [
  {
   "cell_type": "markdown",
   "id": "dda8e383-a7f6-4c84-bf6c-cb4795ea1f29",
   "metadata": {},
   "source": [
    "# Level 2 - Task 1"
   ]
  },
  {
   "cell_type": "markdown",
   "id": "2a6af367-bd2b-4a84-b1ee-fa07f6db0602",
   "metadata": {},
   "source": [
    "# Task: Table Booking and Online Delivery"
   ]
  },
  {
   "cell_type": "code",
   "execution_count": 3,
   "id": "6d60382c-5aa2-4caa-b0f5-01df901657a0",
   "metadata": {},
   "outputs": [],
   "source": [
    "# Import libraries\n",
    "import pandas as pd\n",
    "import numpy as np\n",
    "import matplotlib.pyplot as plt\n",
    "import seaborn as sns"
   ]
  },
  {
   "cell_type": "code",
   "execution_count": 4,
   "id": "3c3ecf63-1f44-44ff-9045-e2347d1fa1ac",
   "metadata": {},
   "outputs": [
    {
     "data": {
      "text/html": [
       "<div>\n",
       "<style scoped>\n",
       "    .dataframe tbody tr th:only-of-type {\n",
       "        vertical-align: middle;\n",
       "    }\n",
       "\n",
       "    .dataframe tbody tr th {\n",
       "        vertical-align: top;\n",
       "    }\n",
       "\n",
       "    .dataframe thead th {\n",
       "        text-align: right;\n",
       "    }\n",
       "</style>\n",
       "<table border=\"1\" class=\"dataframe\">\n",
       "  <thead>\n",
       "    <tr style=\"text-align: right;\">\n",
       "      <th></th>\n",
       "      <th>Restaurant ID</th>\n",
       "      <th>Restaurant Name</th>\n",
       "      <th>Country Code</th>\n",
       "      <th>City</th>\n",
       "      <th>Address</th>\n",
       "      <th>Locality</th>\n",
       "      <th>Locality Verbose</th>\n",
       "      <th>Longitude</th>\n",
       "      <th>Latitude</th>\n",
       "      <th>Cuisines</th>\n",
       "      <th>...</th>\n",
       "      <th>Currency</th>\n",
       "      <th>Has Table booking</th>\n",
       "      <th>Has Online delivery</th>\n",
       "      <th>Is delivering now</th>\n",
       "      <th>Switch to order menu</th>\n",
       "      <th>Price range</th>\n",
       "      <th>Aggregate rating</th>\n",
       "      <th>Rating color</th>\n",
       "      <th>Rating text</th>\n",
       "      <th>Votes</th>\n",
       "    </tr>\n",
       "  </thead>\n",
       "  <tbody>\n",
       "    <tr>\n",
       "      <th>0</th>\n",
       "      <td>6317637</td>\n",
       "      <td>Le Petit Souffle</td>\n",
       "      <td>162</td>\n",
       "      <td>Makati City</td>\n",
       "      <td>Third Floor, Century City Mall, Kalayaan Avenu...</td>\n",
       "      <td>Century City Mall, Poblacion, Makati City</td>\n",
       "      <td>Century City Mall, Poblacion, Makati City, Mak...</td>\n",
       "      <td>121.027535</td>\n",
       "      <td>14.565443</td>\n",
       "      <td>French, Japanese, Desserts</td>\n",
       "      <td>...</td>\n",
       "      <td>Botswana Pula(P)</td>\n",
       "      <td>1</td>\n",
       "      <td>0</td>\n",
       "      <td>0</td>\n",
       "      <td>0</td>\n",
       "      <td>3</td>\n",
       "      <td>4.8</td>\n",
       "      <td>Dark Green</td>\n",
       "      <td>Excellent</td>\n",
       "      <td>314</td>\n",
       "    </tr>\n",
       "    <tr>\n",
       "      <th>1</th>\n",
       "      <td>6304287</td>\n",
       "      <td>Izakaya Kikufuji</td>\n",
       "      <td>162</td>\n",
       "      <td>Makati City</td>\n",
       "      <td>Little Tokyo, 2277 Chino Roces Avenue, Legaspi...</td>\n",
       "      <td>Little Tokyo, Legaspi Village, Makati City</td>\n",
       "      <td>Little Tokyo, Legaspi Village, Makati City, Ma...</td>\n",
       "      <td>121.014101</td>\n",
       "      <td>14.553708</td>\n",
       "      <td>Japanese</td>\n",
       "      <td>...</td>\n",
       "      <td>Botswana Pula(P)</td>\n",
       "      <td>1</td>\n",
       "      <td>0</td>\n",
       "      <td>0</td>\n",
       "      <td>0</td>\n",
       "      <td>3</td>\n",
       "      <td>4.5</td>\n",
       "      <td>Dark Green</td>\n",
       "      <td>Excellent</td>\n",
       "      <td>591</td>\n",
       "    </tr>\n",
       "    <tr>\n",
       "      <th>2</th>\n",
       "      <td>6300002</td>\n",
       "      <td>Heat - Edsa Shangri-La</td>\n",
       "      <td>162</td>\n",
       "      <td>Mandaluyong City</td>\n",
       "      <td>Edsa Shangri-La, 1 Garden Way, Ortigas, Mandal...</td>\n",
       "      <td>Edsa Shangri-La, Ortigas, Mandaluyong City</td>\n",
       "      <td>Edsa Shangri-La, Ortigas, Mandaluyong City, Ma...</td>\n",
       "      <td>121.056831</td>\n",
       "      <td>14.581404</td>\n",
       "      <td>Seafood, Asian, Filipino, Indian</td>\n",
       "      <td>...</td>\n",
       "      <td>Botswana Pula(P)</td>\n",
       "      <td>1</td>\n",
       "      <td>0</td>\n",
       "      <td>0</td>\n",
       "      <td>0</td>\n",
       "      <td>4</td>\n",
       "      <td>4.4</td>\n",
       "      <td>Green</td>\n",
       "      <td>Very Good</td>\n",
       "      <td>270</td>\n",
       "    </tr>\n",
       "    <tr>\n",
       "      <th>3</th>\n",
       "      <td>6318506</td>\n",
       "      <td>Ooma</td>\n",
       "      <td>162</td>\n",
       "      <td>Mandaluyong City</td>\n",
       "      <td>Third Floor, Mega Fashion Hall, SM Megamall, O...</td>\n",
       "      <td>SM Megamall, Ortigas, Mandaluyong City</td>\n",
       "      <td>SM Megamall, Ortigas, Mandaluyong City, Mandal...</td>\n",
       "      <td>121.056475</td>\n",
       "      <td>14.585318</td>\n",
       "      <td>Japanese, Sushi</td>\n",
       "      <td>...</td>\n",
       "      <td>Botswana Pula(P)</td>\n",
       "      <td>0</td>\n",
       "      <td>0</td>\n",
       "      <td>0</td>\n",
       "      <td>0</td>\n",
       "      <td>4</td>\n",
       "      <td>4.9</td>\n",
       "      <td>Dark Green</td>\n",
       "      <td>Excellent</td>\n",
       "      <td>365</td>\n",
       "    </tr>\n",
       "    <tr>\n",
       "      <th>4</th>\n",
       "      <td>6314302</td>\n",
       "      <td>Sambo Kojin</td>\n",
       "      <td>162</td>\n",
       "      <td>Mandaluyong City</td>\n",
       "      <td>Third Floor, Mega Atrium, SM Megamall, Ortigas...</td>\n",
       "      <td>SM Megamall, Ortigas, Mandaluyong City</td>\n",
       "      <td>SM Megamall, Ortigas, Mandaluyong City, Mandal...</td>\n",
       "      <td>121.057508</td>\n",
       "      <td>14.584450</td>\n",
       "      <td>Japanese, Korean</td>\n",
       "      <td>...</td>\n",
       "      <td>Botswana Pula(P)</td>\n",
       "      <td>1</td>\n",
       "      <td>0</td>\n",
       "      <td>0</td>\n",
       "      <td>0</td>\n",
       "      <td>4</td>\n",
       "      <td>4.8</td>\n",
       "      <td>Dark Green</td>\n",
       "      <td>Excellent</td>\n",
       "      <td>229</td>\n",
       "    </tr>\n",
       "  </tbody>\n",
       "</table>\n",
       "<p>5 rows × 21 columns</p>\n",
       "</div>"
      ],
      "text/plain": [
       "   Restaurant ID         Restaurant Name  Country Code              City  \\\n",
       "0        6317637        Le Petit Souffle           162       Makati City   \n",
       "1        6304287        Izakaya Kikufuji           162       Makati City   \n",
       "2        6300002  Heat - Edsa Shangri-La           162  Mandaluyong City   \n",
       "3        6318506                    Ooma           162  Mandaluyong City   \n",
       "4        6314302             Sambo Kojin           162  Mandaluyong City   \n",
       "\n",
       "                                             Address  \\\n",
       "0  Third Floor, Century City Mall, Kalayaan Avenu...   \n",
       "1  Little Tokyo, 2277 Chino Roces Avenue, Legaspi...   \n",
       "2  Edsa Shangri-La, 1 Garden Way, Ortigas, Mandal...   \n",
       "3  Third Floor, Mega Fashion Hall, SM Megamall, O...   \n",
       "4  Third Floor, Mega Atrium, SM Megamall, Ortigas...   \n",
       "\n",
       "                                     Locality  \\\n",
       "0   Century City Mall, Poblacion, Makati City   \n",
       "1  Little Tokyo, Legaspi Village, Makati City   \n",
       "2  Edsa Shangri-La, Ortigas, Mandaluyong City   \n",
       "3      SM Megamall, Ortigas, Mandaluyong City   \n",
       "4      SM Megamall, Ortigas, Mandaluyong City   \n",
       "\n",
       "                                    Locality Verbose   Longitude   Latitude  \\\n",
       "0  Century City Mall, Poblacion, Makati City, Mak...  121.027535  14.565443   \n",
       "1  Little Tokyo, Legaspi Village, Makati City, Ma...  121.014101  14.553708   \n",
       "2  Edsa Shangri-La, Ortigas, Mandaluyong City, Ma...  121.056831  14.581404   \n",
       "3  SM Megamall, Ortigas, Mandaluyong City, Mandal...  121.056475  14.585318   \n",
       "4  SM Megamall, Ortigas, Mandaluyong City, Mandal...  121.057508  14.584450   \n",
       "\n",
       "                           Cuisines  ...          Currency Has Table booking  \\\n",
       "0        French, Japanese, Desserts  ...  Botswana Pula(P)                 1   \n",
       "1                          Japanese  ...  Botswana Pula(P)                 1   \n",
       "2  Seafood, Asian, Filipino, Indian  ...  Botswana Pula(P)                 1   \n",
       "3                   Japanese, Sushi  ...  Botswana Pula(P)                 0   \n",
       "4                  Japanese, Korean  ...  Botswana Pula(P)                 1   \n",
       "\n",
       "   Has Online delivery  Is delivering now  Switch to order menu  Price range  \\\n",
       "0                    0                  0                     0            3   \n",
       "1                    0                  0                     0            3   \n",
       "2                    0                  0                     0            4   \n",
       "3                    0                  0                     0            4   \n",
       "4                    0                  0                     0            4   \n",
       "\n",
       "   Aggregate rating  Rating color Rating text Votes  \n",
       "0               4.8    Dark Green   Excellent   314  \n",
       "1               4.5    Dark Green   Excellent   591  \n",
       "2               4.4         Green   Very Good   270  \n",
       "3               4.9    Dark Green   Excellent   365  \n",
       "4               4.8    Dark Green   Excellent   229  \n",
       "\n",
       "[5 rows x 21 columns]"
      ]
     },
     "execution_count": 4,
     "metadata": {},
     "output_type": "execute_result"
    }
   ],
   "source": [
    "# Load the dataset\n",
    "data_set = pd.read_csv(r\"D:\\Cognifyz Internship\\Cleaned Dataset.csv\")\n",
    "\n",
    "# Print dataset\n",
    "data_set.head()"
   ]
  },
  {
   "cell_type": "code",
   "execution_count": 5,
   "id": "2e1d50c0-fec5-4b12-b347-3501c9501a30",
   "metadata": {},
   "outputs": [
    {
     "data": {
      "text/plain": [
       "Restaurant ID           0\n",
       "Restaurant Name         0\n",
       "Country Code            0\n",
       "City                    0\n",
       "Address                 0\n",
       "Locality                0\n",
       "Locality Verbose        0\n",
       "Longitude               0\n",
       "Latitude                0\n",
       "Cuisines                0\n",
       "Average Cost for two    0\n",
       "Currency                0\n",
       "Has Table booking       0\n",
       "Has Online delivery     0\n",
       "Is delivering now       0\n",
       "Switch to order menu    0\n",
       "Price range             0\n",
       "Aggregate rating        0\n",
       "Rating color            0\n",
       "Rating text             0\n",
       "Votes                   0\n",
       "dtype: int64"
      ]
     },
     "execution_count": 5,
     "metadata": {},
     "output_type": "execute_result"
    }
   ],
   "source": [
    "data_set.isnull().sum()"
   ]
  },
  {
   "cell_type": "code",
   "execution_count": 6,
   "id": "5d6c7bd9-adcb-4245-9305-a9a1598d37ff",
   "metadata": {},
   "outputs": [
    {
     "name": "stdout",
     "output_type": "stream",
     "text": [
      "<class 'pandas.core.frame.DataFrame'>\n",
      "RangeIndex: 9551 entries, 0 to 9550\n",
      "Data columns (total 21 columns):\n",
      " #   Column                Non-Null Count  Dtype  \n",
      "---  ------                --------------  -----  \n",
      " 0   Restaurant ID         9551 non-null   int64  \n",
      " 1   Restaurant Name       9551 non-null   object \n",
      " 2   Country Code          9551 non-null   int64  \n",
      " 3   City                  9551 non-null   object \n",
      " 4   Address               9551 non-null   object \n",
      " 5   Locality              9551 non-null   object \n",
      " 6   Locality Verbose      9551 non-null   object \n",
      " 7   Longitude             9551 non-null   float64\n",
      " 8   Latitude              9551 non-null   float64\n",
      " 9   Cuisines              9551 non-null   object \n",
      " 10  Average Cost for two  9551 non-null   int64  \n",
      " 11  Currency              9551 non-null   object \n",
      " 12  Has Table booking     9551 non-null   int64  \n",
      " 13  Has Online delivery   9551 non-null   int64  \n",
      " 14  Is delivering now     9551 non-null   int64  \n",
      " 15  Switch to order menu  9551 non-null   int64  \n",
      " 16  Price range           9551 non-null   int64  \n",
      " 17  Aggregate rating      9551 non-null   float64\n",
      " 18  Rating color          9551 non-null   object \n",
      " 19  Rating text           9551 non-null   object \n",
      " 20  Votes                 9551 non-null   int64  \n",
      "dtypes: float64(3), int64(9), object(9)\n",
      "memory usage: 1.5+ MB\n"
     ]
    }
   ],
   "source": [
    "data_set.info()"
   ]
  },
  {
   "cell_type": "code",
   "execution_count": 7,
   "id": "d397a745-40b1-4b17-9868-eae432e64ea7",
   "metadata": {},
   "outputs": [],
   "source": [
    "# Determine the percentage of restaurants that offer table booking and online delivery."
   ]
  },
  {
   "cell_type": "code",
   "execution_count": 8,
   "id": "3c6a8d99-21b8-4398-b427-a441ba2bfbc8",
   "metadata": {},
   "outputs": [
    {
     "name": "stdout",
     "output_type": "stream",
     "text": [
      "Has Table booking\n",
      "0    8393\n",
      "1    1158\n",
      "Name: count, dtype: int64\n",
      "\n",
      "Has Online delivery\n",
      "0    7100\n",
      "1    2451\n",
      "Name: count, dtype: int64\n",
      "\n",
      "Total restaurants: 9551\n"
     ]
    }
   ],
   "source": [
    "print(data_set['Has Table booking'].value_counts())\n",
    "print()\n",
    "print(data_set['Has Online delivery'].value_counts())\n",
    "\n",
    "# Total number of restaurants\n",
    "total_restaurants = len(data_set)\n",
    "print('\\nTotal restaurants:', total_restaurants)"
   ]
  },
  {
   "cell_type": "code",
   "execution_count": 9,
   "id": "c795508b-f117-4ca2-8806-d8ec896cc956",
   "metadata": {},
   "outputs": [
    {
     "name": "stdout",
     "output_type": "stream",
     "text": [
      "Percentage of restaurants that offer table booking: 12.12 %\n",
      "Percentage of restaurants that offer online delivery: 25.66 %\n"
     ]
    }
   ],
   "source": [
    "# Calculate percentages\n",
    "percentage_table_booking = round((data_set['Has Table booking'].sum() / total_restaurants) * 100, 2)\n",
    "percentage_online_delivery = round((data_set['Has Online delivery'].sum() / total_restaurants) * 100, 2)\n",
    "\n",
    "print(f'Percentage of restaurants that offer table booking: {percentage_table_booking:.2f} %')\n",
    "print(f'Percentage of restaurants that offer online delivery: {percentage_online_delivery:.2f} %')"
   ]
  },
  {
   "cell_type": "markdown",
   "id": "d359ed25-2659-404c-8e1b-de1e8d947872",
   "metadata": {},
   "source": [
    "~ Few restaurants offer table booking (12.12%) and online delivery (25.66%). Adding these services can help attract more\n",
    "customers and make dining more convenient."
   ]
  },
  {
   "cell_type": "code",
   "execution_count": 11,
   "id": "5f3e8b9a-aa88-4085-9508-a23aa096338b",
   "metadata": {},
   "outputs": [],
   "source": [
    "# Compare the average ratings of restaurants with table booking and those without."
   ]
  },
  {
   "cell_type": "code",
   "execution_count": 12,
   "id": "977a1e4f-7c2a-48de-9a13-d13ff6f87e05",
   "metadata": {},
   "outputs": [
    {
     "name": "stdout",
     "output_type": "stream",
     "text": [
      "Rows with table booking:\n",
      " (1158, 21)\n",
      "Rows without table booking:\n",
      " (8393, 21)\n"
     ]
    }
   ],
   "source": [
    "data_with_table_booking = data_set[data_set['Has Table booking'] == 1]\n",
    "data_without_table_booking = data_set[data_set['Has Table booking'] == 0]\n",
    "\n",
    "print('Rows with table booking:\\n',data_with_table_booking.shape)\n",
    "print('Rows without table booking:\\n',data_without_table_booking.shape)"
   ]
  },
  {
   "cell_type": "code",
   "execution_count": 13,
   "id": "c6d88f24-b609-4d3e-9e4a-c2304ac3f8bf",
   "metadata": {},
   "outputs": [
    {
     "name": "stdout",
     "output_type": "stream",
     "text": [
      "Average rating of restaurants with table booking:\n",
      " 3.44\n",
      "Average rating of restaurants without table booking:\n",
      " 2.56\n"
     ]
    }
   ],
   "source": [
    "print('Average rating of restaurants with table booking:\\n', round(data_with_table_booking['Aggregate rating'].mean(), 2))\n",
    "print('Average rating of restaurants without table booking:\\n', round(data_without_table_booking['Aggregate rating'].mean(), 2))"
   ]
  },
  {
   "cell_type": "markdown",
   "id": "fd813d53-a3ab-4f69-ad23-9de71ea09614",
   "metadata": {},
   "source": [
    "~ Restaurants with table booking have a significantly higher average rating (3.44) compared to those without (2.56). This suggests that offering table booking enhances customer satisfaction and overall dining experience."
   ]
  },
  {
   "cell_type": "code",
   "execution_count": 15,
   "id": "33c297c2-fd7a-4aaf-a8a4-8cbe483cac06",
   "metadata": {},
   "outputs": [],
   "source": [
    "# Analyze the availability of online delivery among restaurants with different price ranges."
   ]
  },
  {
   "cell_type": "code",
   "execution_count": 16,
   "id": "dab79024-6820-4966-9794-a1d92e6f4e1e",
   "metadata": {},
   "outputs": [
    {
     "data": {
      "image/png": "[encoded data removed]",
      "text/plain": [
       "<Figure size 800x500 with 1 Axes>"
      ]
     },
     "metadata": {},
     "output_type": "display_data"
    }
   ],
   "source": [
    "# Calculate the percentage of online delivery availability by price range\n",
    "online_delivery_percentage = (data_set.groupby('Price range')['Has Online delivery'].value_counts(normalize = True).unstack() * 100)\n",
    "\n",
    "# Plotting the data\n",
    "#plt.figure(figsize=(8, 5))\n",
    "online_delivery_percentage.plot(kind = 'bar', stacked = True, colormap = 'Set3', edgecolor = 'black', alpha = 0.9, figsize = (8, 5))\n",
    "plt.title('Availability of Online Delivery by Price Range', fontsize=16)\n",
    "plt.xlabel('Price Range')\n",
    "plt.ylabel('Percentage')\n",
    "plt.legend(title = 'Has Online Delivery', labels=['No', 'Yes'], loc = 'upper right')\n",
    "plt.show()"
   ]
  },
  {
   "cell_type": "markdown",
   "id": "9a03434e-2361-4c09-a698-3d68ada7eb81",
   "metadata": {},
   "source": [
    "~ Based on this graph, it can be concluded that online delivery services are more commonly available in restaurants with \n",
    "price range 2 and 3, with only a small percentage of restaurants in the lower and higher price ranges\n",
    "offering delivery services."
   ]
  },
  {
   "cell_type": "code",
   "execution_count": 18,
   "id": "351cb37c-0c98-476f-85e8-3aeac3d94a53",
   "metadata": {},
   "outputs": [
    {
     "data": {
      "image/png": "[encoded data removed]",
      "text/plain": [
       "<Figure size 800x500 with 1 Axes>"
      ]
     },
     "metadata": {},
     "output_type": "display_data"
    }
   ],
   "source": [
    "# Calculate the percentage of online delivery by price range\n",
    "online_delivery_percentage = (data_set.groupby('Price range')['Has Online delivery']\n",
    "                              .value_counts(normalize=True).unstack() * 100)\n",
    "\n",
    "# Plotting the graph\n",
    "online_delivery_percentage[1].plot(kind='bar', color='Gold', edgecolor='black', alpha=0.9, figsize=(8, 5))\n",
    "plt.title('Availability of Online Delivery by Price Range', fontsize=16)\n",
    "plt.xlabel('Price Range')\n",
    "plt.ylabel('Percentage')\n",
    "plt.show()"
   ]
  },
  {
   "cell_type": "markdown",
   "id": "266235b8-b380-492c-a54c-1cee2023f33d",
   "metadata": {},
   "source": [
    "~ From this graph, it can be concluded that most customers prefer to buy food from restaurants in price range 2, while fewer customers choose restaurants in price range 4, likely due to the higher cost compared to the other price ranges."
   ]
  },
  {
   "cell_type": "markdown",
   "id": "9419645d-b0a9-4b84-a2ed-886409e14130",
   "metadata": {},
   "source": [
    "# Level 2 - Task 2"
   ]
  },
  {
   "cell_type": "markdown",
   "id": "bd906ea2-318f-44c8-830d-66ce0596b9b6",
   "metadata": {},
   "source": [
    "# Task: Price Range Analysis"
   ]
  },
  {
   "cell_type": "code",
   "execution_count": 22,
   "id": "a1f7e960-1243-4f1d-8eeb-96359ce0ba7b",
   "metadata": {},
   "outputs": [
    {
     "data": {
      "text/plain": [
       "Price range\n",
       "1    4444\n",
       "2    3113\n",
       "3    1408\n",
       "4     586\n",
       "Name: count, dtype: int64"
      ]
     },
     "execution_count": 22,
     "metadata": {},
     "output_type": "execute_result"
    }
   ],
   "source": [
    "# Determine the most common price range among all the restaurants.\n",
    "data_set['Price range'].value_counts()"
   ]
  },
  {
   "cell_type": "code",
   "execution_count": 23,
   "id": "40293276-fb45-41d1-b353-3aac9a432c11",
   "metadata": {},
   "outputs": [
    {
     "name": "stdout",
     "output_type": "stream",
     "text": [
      "Most common price range among all the restaurants: 1\n"
     ]
    }
   ],
   "source": [
    "common_price = data_set['Price range'].mode()[0]\n",
    "print('Most common price range among all the restaurants:', common_price)"
   ]
  },
  {
   "cell_type": "markdown",
   "id": "87736e42-7e4f-49d9-8605-f9f176d84e94",
   "metadata": {},
   "source": [
    "~ The most common price range is 1, indicating it is the most preferred category by restaurants."
   ]
  },
  {
   "cell_type": "code",
   "execution_count": 25,
   "id": "84d68725-bceb-4d54-b426-042d23cd15f7",
   "metadata": {},
   "outputs": [
    {
     "name": "stdout",
     "output_type": "stream",
     "text": [
      "The average rating for each price range:\n",
      " Price range\n",
      "1    2.00\n",
      "2    2.94\n",
      "3    3.68\n",
      "4    3.82\n",
      "Name: Aggregate rating, dtype: float64\n"
     ]
    }
   ],
   "source": [
    "# Calculate the average rating for each price range.\n",
    "avg_rating = data_set.groupby('Price range')['Aggregate rating'].mean().round(2)\n",
    "print('The average rating for each price range:\\n', avg_rating)"
   ]
  },
  {
   "cell_type": "markdown",
   "id": "81bad653-c44d-44dd-b9fe-4707061f714c",
   "metadata": {},
   "source": [
    "~ The average ratings vary across price ranges, with price 4 having the highest average rating of 3.82."
   ]
  },
  {
   "cell_type": "code",
   "execution_count": 28,
   "id": "723ef697-478f-4699-b6bb-d43fe6b6956d",
   "metadata": {},
   "outputs": [
    {
     "data": {
      "image/png": "[encoded data removed]",
      "text/plain": [
       "<Figure size 800x500 with 1 Axes>"
      ]
     },
     "metadata": {},
     "output_type": "display_data"
    }
   ],
   "source": [
    "# Identify the color that represents the highest average rating among different price ranges.\n",
    "highest_price = avg_rating.idxmax()\n",
    "highest_color = 'Green'\n",
    "\n",
    "plt.figure(figsize = (8, 5))\n",
    "avg_rating.plot(kind = 'bar', color = 'lightcoral', edgecolor = 'black', alpha = 0.7)\n",
    "plt.bar(avg_rating.index.get_loc(highest_price), avg_rating[highest_price], color = highest_color.lower())\n",
    "plt.title('Average Ratings by Price Range', fontsize = 16)\n",
    "plt.xlabel('Price Range', fontsize = 12)\n",
    "plt.ylabel('Average Rating', fontsize = 12)\n",
    "plt.xticks(rotation = 45)\n",
    "plt.tight_layout()\n",
    "plt.show()"
   ]
  },
  {
   "cell_type": "markdown",
   "id": "acade077-c0c2-4ce6-ba42-3c6ca921b217",
   "metadata": {},
   "source": [
    "~ Green color represents the highest average rating, signifying top-performing restaurants in this price category."
   ]
  },
  {
   "cell_type": "markdown",
   "id": "5bd23ac7-247d-4e6b-8217-5ae2980d2216",
   "metadata": {},
   "source": [
    "# Level 2 - Task 3"
   ]
  },
  {
   "cell_type": "markdown",
   "id": "0de68a0f-290c-4afd-838f-a2d78fd54218",
   "metadata": {},
   "source": [
    "# Task: Feature Engineering"
   ]
  },
  {
   "cell_type": "code",
   "execution_count": 30,
   "id": "6ad3ea2e-4fee-4615-8916-069b4324c15e",
   "metadata": {},
   "outputs": [],
   "source": [
    "# Extract additional features from the existing columns, such as the length of the restaurant name or address."
   ]
  },
  {
   "cell_type": "code",
   "execution_count": 32,
   "id": "91ea4b52-b535-41b9-8422-1d78a005784c",
   "metadata": {},
   "outputs": [
    {
     "data": {
      "text/html": [
       "<div>\n",
       "<style scoped>\n",
       "    .dataframe tbody tr th:only-of-type {\n",
       "        vertical-align: middle;\n",
       "    }\n",
       "\n",
       "    .dataframe tbody tr th {\n",
       "        vertical-align: top;\n",
       "    }\n",
       "\n",
       "    .dataframe thead th {\n",
       "        text-align: right;\n",
       "    }\n",
       "</style>\n",
       "<table border=\"1\" class=\"dataframe\">\n",
       "  <thead>\n",
       "    <tr style=\"text-align: right;\">\n",
       "      <th></th>\n",
       "      <th>Restaurant ID</th>\n",
       "      <th>Restaurant Name</th>\n",
       "      <th>Country Code</th>\n",
       "      <th>City</th>\n",
       "      <th>Address</th>\n",
       "      <th>Locality</th>\n",
       "      <th>Locality Verbose</th>\n",
       "      <th>Longitude</th>\n",
       "      <th>Latitude</th>\n",
       "      <th>Cuisines</th>\n",
       "      <th>...</th>\n",
       "      <th>Has Online delivery</th>\n",
       "      <th>Is delivering now</th>\n",
       "      <th>Switch to order menu</th>\n",
       "      <th>Price range</th>\n",
       "      <th>Aggregate rating</th>\n",
       "      <th>Rating color</th>\n",
       "      <th>Rating text</th>\n",
       "      <th>Votes</th>\n",
       "      <th>Name Length</th>\n",
       "      <th>Address Length</th>\n",
       "    </tr>\n",
       "  </thead>\n",
       "  <tbody>\n",
       "    <tr>\n",
       "      <th>0</th>\n",
       "      <td>6317637</td>\n",
       "      <td>Le Petit Souffle</td>\n",
       "      <td>162</td>\n",
       "      <td>Makati City</td>\n",
       "      <td>Third Floor, Century City Mall, Kalayaan Avenu...</td>\n",
       "      <td>Century City Mall, Poblacion, Makati City</td>\n",
       "      <td>Century City Mall, Poblacion, Makati City, Mak...</td>\n",
       "      <td>121.027535</td>\n",
       "      <td>14.565443</td>\n",
       "      <td>French, Japanese, Desserts</td>\n",
       "      <td>...</td>\n",
       "      <td>0</td>\n",
       "      <td>0</td>\n",
       "      <td>0</td>\n",
       "      <td>3</td>\n",
       "      <td>4.8</td>\n",
       "      <td>Dark Green</td>\n",
       "      <td>Excellent</td>\n",
       "      <td>314</td>\n",
       "      <td>16</td>\n",
       "      <td>71</td>\n",
       "    </tr>\n",
       "    <tr>\n",
       "      <th>1</th>\n",
       "      <td>6304287</td>\n",
       "      <td>Izakaya Kikufuji</td>\n",
       "      <td>162</td>\n",
       "      <td>Makati City</td>\n",
       "      <td>Little Tokyo, 2277 Chino Roces Avenue, Legaspi...</td>\n",
       "      <td>Little Tokyo, Legaspi Village, Makati City</td>\n",
       "      <td>Little Tokyo, Legaspi Village, Makati City, Ma...</td>\n",
       "      <td>121.014101</td>\n",
       "      <td>14.553708</td>\n",
       "      <td>Japanese</td>\n",
       "      <td>...</td>\n",
       "      <td>0</td>\n",
       "      <td>0</td>\n",
       "      <td>0</td>\n",
       "      <td>3</td>\n",
       "      <td>4.5</td>\n",
       "      <td>Dark Green</td>\n",
       "      <td>Excellent</td>\n",
       "      <td>591</td>\n",
       "      <td>16</td>\n",
       "      <td>67</td>\n",
       "    </tr>\n",
       "    <tr>\n",
       "      <th>2</th>\n",
       "      <td>6300002</td>\n",
       "      <td>Heat - Edsa Shangri-La</td>\n",
       "      <td>162</td>\n",
       "      <td>Mandaluyong City</td>\n",
       "      <td>Edsa Shangri-La, 1 Garden Way, Ortigas, Mandal...</td>\n",
       "      <td>Edsa Shangri-La, Ortigas, Mandaluyong City</td>\n",
       "      <td>Edsa Shangri-La, Ortigas, Mandaluyong City, Ma...</td>\n",
       "      <td>121.056831</td>\n",
       "      <td>14.581404</td>\n",
       "      <td>Seafood, Asian, Filipino, Indian</td>\n",
       "      <td>...</td>\n",
       "      <td>0</td>\n",
       "      <td>0</td>\n",
       "      <td>0</td>\n",
       "      <td>4</td>\n",
       "      <td>4.4</td>\n",
       "      <td>Green</td>\n",
       "      <td>Very Good</td>\n",
       "      <td>270</td>\n",
       "      <td>22</td>\n",
       "      <td>56</td>\n",
       "    </tr>\n",
       "    <tr>\n",
       "      <th>3</th>\n",
       "      <td>6318506</td>\n",
       "      <td>Ooma</td>\n",
       "      <td>162</td>\n",
       "      <td>Mandaluyong City</td>\n",
       "      <td>Third Floor, Mega Fashion Hall, SM Megamall, O...</td>\n",
       "      <td>SM Megamall, Ortigas, Mandaluyong City</td>\n",
       "      <td>SM Megamall, Ortigas, Mandaluyong City, Mandal...</td>\n",
       "      <td>121.056475</td>\n",
       "      <td>14.585318</td>\n",
       "      <td>Japanese, Sushi</td>\n",
       "      <td>...</td>\n",
       "      <td>0</td>\n",
       "      <td>0</td>\n",
       "      <td>0</td>\n",
       "      <td>4</td>\n",
       "      <td>4.9</td>\n",
       "      <td>Dark Green</td>\n",
       "      <td>Excellent</td>\n",
       "      <td>365</td>\n",
       "      <td>4</td>\n",
       "      <td>70</td>\n",
       "    </tr>\n",
       "    <tr>\n",
       "      <th>4</th>\n",
       "      <td>6314302</td>\n",
       "      <td>Sambo Kojin</td>\n",
       "      <td>162</td>\n",
       "      <td>Mandaluyong City</td>\n",
       "      <td>Third Floor, Mega Atrium, SM Megamall, Ortigas...</td>\n",
       "      <td>SM Megamall, Ortigas, Mandaluyong City</td>\n",
       "      <td>SM Megamall, Ortigas, Mandaluyong City, Mandal...</td>\n",
       "      <td>121.057508</td>\n",
       "      <td>14.584450</td>\n",
       "      <td>Japanese, Korean</td>\n",
       "      <td>...</td>\n",
       "      <td>0</td>\n",
       "      <td>0</td>\n",
       "      <td>0</td>\n",
       "      <td>4</td>\n",
       "      <td>4.8</td>\n",
       "      <td>Dark Green</td>\n",
       "      <td>Excellent</td>\n",
       "      <td>229</td>\n",
       "      <td>11</td>\n",
       "      <td>64</td>\n",
       "    </tr>\n",
       "  </tbody>\n",
       "</table>\n",
       "<p>5 rows × 23 columns</p>\n",
       "</div>"
      ],
      "text/plain": [
       "   Restaurant ID         Restaurant Name  Country Code              City  \\\n",
       "0        6317637        Le Petit Souffle           162       Makati City   \n",
       "1        6304287        Izakaya Kikufuji           162       Makati City   \n",
       "2        6300002  Heat - Edsa Shangri-La           162  Mandaluyong City   \n",
       "3        6318506                    Ooma           162  Mandaluyong City   \n",
       "4        6314302             Sambo Kojin           162  Mandaluyong City   \n",
       "\n",
       "                                             Address  \\\n",
       "0  Third Floor, Century City Mall, Kalayaan Avenu...   \n",
       "1  Little Tokyo, 2277 Chino Roces Avenue, Legaspi...   \n",
       "2  Edsa Shangri-La, 1 Garden Way, Ortigas, Mandal...   \n",
       "3  Third Floor, Mega Fashion Hall, SM Megamall, O...   \n",
       "4  Third Floor, Mega Atrium, SM Megamall, Ortigas...   \n",
       "\n",
       "                                     Locality  \\\n",
       "0   Century City Mall, Poblacion, Makati City   \n",
       "1  Little Tokyo, Legaspi Village, Makati City   \n",
       "2  Edsa Shangri-La, Ortigas, Mandaluyong City   \n",
       "3      SM Megamall, Ortigas, Mandaluyong City   \n",
       "4      SM Megamall, Ortigas, Mandaluyong City   \n",
       "\n",
       "                                    Locality Verbose   Longitude   Latitude  \\\n",
       "0  Century City Mall, Poblacion, Makati City, Mak...  121.027535  14.565443   \n",
       "1  Little Tokyo, Legaspi Village, Makati City, Ma...  121.014101  14.553708   \n",
       "2  Edsa Shangri-La, Ortigas, Mandaluyong City, Ma...  121.056831  14.581404   \n",
       "3  SM Megamall, Ortigas, Mandaluyong City, Mandal...  121.056475  14.585318   \n",
       "4  SM Megamall, Ortigas, Mandaluyong City, Mandal...  121.057508  14.584450   \n",
       "\n",
       "                           Cuisines  ...  Has Online delivery  \\\n",
       "0        French, Japanese, Desserts  ...                    0   \n",
       "1                          Japanese  ...                    0   \n",
       "2  Seafood, Asian, Filipino, Indian  ...                    0   \n",
       "3                   Japanese, Sushi  ...                    0   \n",
       "4                  Japanese, Korean  ...                    0   \n",
       "\n",
       "  Is delivering now  Switch to order menu  Price range  Aggregate rating  \\\n",
       "0                 0                     0            3               4.8   \n",
       "1                 0                     0            3               4.5   \n",
       "2                 0                     0            4               4.4   \n",
       "3                 0                     0            4               4.9   \n",
       "4                 0                     0            4               4.8   \n",
       "\n",
       "   Rating color  Rating text  Votes Name Length Address Length  \n",
       "0    Dark Green    Excellent    314          16             71  \n",
       "1    Dark Green    Excellent    591          16             67  \n",
       "2         Green    Very Good    270          22             56  \n",
       "3    Dark Green    Excellent    365           4             70  \n",
       "4    Dark Green    Excellent    229          11             64  \n",
       "\n",
       "[5 rows x 23 columns]"
      ]
     },
     "execution_count": 32,
     "metadata": {},
     "output_type": "execute_result"
    }
   ],
   "source": [
    "data_set['Name Length'] = data_set['Restaurant Name'].apply(len)\n",
    "data_set['Address Length'] = data_set['Address'].apply(len)\n",
    "data_set.head()"
   ]
  },
  {
   "cell_type": "code",
   "execution_count": 34,
   "id": "cecae078-2d65-4acd-ab0e-3795b1502a5e",
   "metadata": {},
   "outputs": [
    {
     "data": {
      "text/html": [
       "<div>\n",
       "<style scoped>\n",
       "    .dataframe tbody tr th:only-of-type {\n",
       "        vertical-align: middle;\n",
       "    }\n",
       "\n",
       "    .dataframe tbody tr th {\n",
       "        vertical-align: top;\n",
       "    }\n",
       "\n",
       "    .dataframe thead th {\n",
       "        text-align: right;\n",
       "    }\n",
       "</style>\n",
       "<table border=\"1\" class=\"dataframe\">\n",
       "  <thead>\n",
       "    <tr style=\"text-align: right;\">\n",
       "      <th></th>\n",
       "      <th>Restaurant Name</th>\n",
       "      <th>Name Length</th>\n",
       "      <th>Address</th>\n",
       "      <th>Address Length</th>\n",
       "    </tr>\n",
       "  </thead>\n",
       "  <tbody>\n",
       "    <tr>\n",
       "      <th>0</th>\n",
       "      <td>Le Petit Souffle</td>\n",
       "      <td>16</td>\n",
       "      <td>Third Floor, Century City Mall, Kalayaan Avenu...</td>\n",
       "      <td>71</td>\n",
       "    </tr>\n",
       "    <tr>\n",
       "      <th>1</th>\n",
       "      <td>Izakaya Kikufuji</td>\n",
       "      <td>16</td>\n",
       "      <td>Little Tokyo, 2277 Chino Roces Avenue, Legaspi...</td>\n",
       "      <td>67</td>\n",
       "    </tr>\n",
       "    <tr>\n",
       "      <th>2</th>\n",
       "      <td>Heat - Edsa Shangri-La</td>\n",
       "      <td>22</td>\n",
       "      <td>Edsa Shangri-La, 1 Garden Way, Ortigas, Mandal...</td>\n",
       "      <td>56</td>\n",
       "    </tr>\n",
       "    <tr>\n",
       "      <th>3</th>\n",
       "      <td>Ooma</td>\n",
       "      <td>4</td>\n",
       "      <td>Third Floor, Mega Fashion Hall, SM Megamall, O...</td>\n",
       "      <td>70</td>\n",
       "    </tr>\n",
       "    <tr>\n",
       "      <th>4</th>\n",
       "      <td>Sambo Kojin</td>\n",
       "      <td>11</td>\n",
       "      <td>Third Floor, Mega Atrium, SM Megamall, Ortigas...</td>\n",
       "      <td>64</td>\n",
       "    </tr>\n",
       "    <tr>\n",
       "      <th>...</th>\n",
       "      <td>...</td>\n",
       "      <td>...</td>\n",
       "      <td>...</td>\n",
       "      <td>...</td>\n",
       "    </tr>\n",
       "    <tr>\n",
       "      <th>9546</th>\n",
       "      <td>Naml۱ Gurme</td>\n",
       "      <td>11</td>\n",
       "      <td>Kemanke�� Karamustafa Pa��a Mahallesi, R۱ht۱m ...</td>\n",
       "      <td>103</td>\n",
       "    </tr>\n",
       "    <tr>\n",
       "      <th>9547</th>\n",
       "      <td>Ceviz A��ac۱</td>\n",
       "      <td>12</td>\n",
       "      <td>Ko��uyolu Mahallesi, Muhittin ��st�_nda�� Cadd...</td>\n",
       "      <td>77</td>\n",
       "    </tr>\n",
       "    <tr>\n",
       "      <th>9548</th>\n",
       "      <td>Huqqa</td>\n",
       "      <td>5</td>\n",
       "      <td>Kuru�_e��me Mahallesi, Muallim Naci Caddesi, N...</td>\n",
       "      <td>73</td>\n",
       "    </tr>\n",
       "    <tr>\n",
       "      <th>9549</th>\n",
       "      <td>A���k Kahve</td>\n",
       "      <td>11</td>\n",
       "      <td>Kuru�_e��me Mahallesi, Muallim Naci Caddesi, N...</td>\n",
       "      <td>75</td>\n",
       "    </tr>\n",
       "    <tr>\n",
       "      <th>9550</th>\n",
       "      <td>Walter's Coffee Roastery</td>\n",
       "      <td>24</td>\n",
       "      <td>Cafea��a Mahallesi, Bademalt۱ Sokak, No 21/B, ...</td>\n",
       "      <td>65</td>\n",
       "    </tr>\n",
       "  </tbody>\n",
       "</table>\n",
       "<p>9551 rows × 4 columns</p>\n",
       "</div>"
      ],
      "text/plain": [
       "               Restaurant Name  Name Length  \\\n",
       "0             Le Petit Souffle           16   \n",
       "1             Izakaya Kikufuji           16   \n",
       "2       Heat - Edsa Shangri-La           22   \n",
       "3                         Ooma            4   \n",
       "4                  Sambo Kojin           11   \n",
       "...                        ...          ...   \n",
       "9546               Naml۱ Gurme           11   \n",
       "9547              Ceviz A��ac۱           12   \n",
       "9548                     Huqqa            5   \n",
       "9549               A���k Kahve           11   \n",
       "9550  Walter's Coffee Roastery           24   \n",
       "\n",
       "                                                Address  Address Length  \n",
       "0     Third Floor, Century City Mall, Kalayaan Avenu...              71  \n",
       "1     Little Tokyo, 2277 Chino Roces Avenue, Legaspi...              67  \n",
       "2     Edsa Shangri-La, 1 Garden Way, Ortigas, Mandal...              56  \n",
       "3     Third Floor, Mega Fashion Hall, SM Megamall, O...              70  \n",
       "4     Third Floor, Mega Atrium, SM Megamall, Ortigas...              64  \n",
       "...                                                 ...             ...  \n",
       "9546  Kemanke�� Karamustafa Pa��a Mahallesi, R۱ht۱m ...             103  \n",
       "9547  Ko��uyolu Mahallesi, Muhittin ��st�_nda�� Cadd...              77  \n",
       "9548  Kuru�_e��me Mahallesi, Muallim Naci Caddesi, N...              73  \n",
       "9549  Kuru�_e��me Mahallesi, Muallim Naci Caddesi, N...              75  \n",
       "9550  Cafea��a Mahallesi, Bademalt۱ Sokak, No 21/B, ...              65  \n",
       "\n",
       "[9551 rows x 4 columns]"
      ]
     },
     "execution_count": 34,
     "metadata": {},
     "output_type": "execute_result"
    }
   ],
   "source": [
    "# Display the updated dataset\n",
    "data_set[['Restaurant Name', 'Name Length', 'Address', 'Address Length']]"
   ]
  },
  {
   "cell_type": "code",
   "execution_count": 36,
   "id": "2ece0ac9-6b30-45e8-a946-31b7f48b1775",
   "metadata": {},
   "outputs": [],
   "source": [
    "# Create new features like \"Has Table Booking\" or \"Has Online Delivery\" by encoding categorical variables."
   ]
  },
  {
   "cell_type": "code",
   "execution_count": 38,
   "id": "5b35e27a-6eeb-4e67-857c-a1cc90fa6122",
   "metadata": {},
   "outputs": [
    {
     "data": {
      "text/plain": [
       "(array([1, 0], dtype=int64), array([0, 1], dtype=int64))"
      ]
     },
     "execution_count": 38,
     "metadata": {},
     "output_type": "execute_result"
    }
   ],
   "source": [
    "# Check the unique values for 'Has Table booking' and 'Has Online delivery' columns \n",
    "table_booking = data_set['Has Table booking'].unique()\n",
    "online_delivery = data_set['Has Online delivery'].unique()\n",
    "\n",
    "table_booking, online_delivery"
   ]
  },
  {
   "cell_type": "markdown",
   "id": "280c6ca2-1bc6-4638-becc-9e6aa8d626d8",
   "metadata": {},
   "source": [
    "~ The dataset already contains the necessary categorical encoding. No additional transformation is required for these columns."
   ]
  },
  {
   "cell_type": "code",
   "execution_count": 46,
   "id": "19f6c06d-c1f0-4e8b-a54a-f9b09ebcbc97",
   "metadata": {},
   "outputs": [
    {
     "data": {
      "text/html": [
       "<div>\n",
       "<style scoped>\n",
       "    .dataframe tbody tr th:only-of-type {\n",
       "        vertical-align: middle;\n",
       "    }\n",
       "\n",
       "    .dataframe tbody tr th {\n",
       "        vertical-align: top;\n",
       "    }\n",
       "\n",
       "    .dataframe thead th {\n",
       "        text-align: right;\n",
       "    }\n",
       "</style>\n",
       "<table border=\"1\" class=\"dataframe\">\n",
       "  <thead>\n",
       "    <tr style=\"text-align: right;\">\n",
       "      <th></th>\n",
       "      <th>Has Table booking</th>\n",
       "      <th>Has Online delivery</th>\n",
       "    </tr>\n",
       "  </thead>\n",
       "  <tbody>\n",
       "    <tr>\n",
       "      <th>0</th>\n",
       "      <td>1</td>\n",
       "      <td>0</td>\n",
       "    </tr>\n",
       "    <tr>\n",
       "      <th>1</th>\n",
       "      <td>1</td>\n",
       "      <td>0</td>\n",
       "    </tr>\n",
       "    <tr>\n",
       "      <th>2</th>\n",
       "      <td>1</td>\n",
       "      <td>0</td>\n",
       "    </tr>\n",
       "    <tr>\n",
       "      <th>3</th>\n",
       "      <td>0</td>\n",
       "      <td>0</td>\n",
       "    </tr>\n",
       "    <tr>\n",
       "      <th>4</th>\n",
       "      <td>1</td>\n",
       "      <td>0</td>\n",
       "    </tr>\n",
       "    <tr>\n",
       "      <th>5</th>\n",
       "      <td>0</td>\n",
       "      <td>0</td>\n",
       "    </tr>\n",
       "    <tr>\n",
       "      <th>6</th>\n",
       "      <td>1</td>\n",
       "      <td>0</td>\n",
       "    </tr>\n",
       "    <tr>\n",
       "      <th>7</th>\n",
       "      <td>1</td>\n",
       "      <td>0</td>\n",
       "    </tr>\n",
       "    <tr>\n",
       "      <th>8</th>\n",
       "      <td>1</td>\n",
       "      <td>0</td>\n",
       "    </tr>\n",
       "    <tr>\n",
       "      <th>9</th>\n",
       "      <td>1</td>\n",
       "      <td>0</td>\n",
       "    </tr>\n",
       "  </tbody>\n",
       "</table>\n",
       "</div>"
      ],
      "text/plain": [
       "   Has Table booking  Has Online delivery\n",
       "0                  1                    0\n",
       "1                  1                    0\n",
       "2                  1                    0\n",
       "3                  0                    0\n",
       "4                  1                    0\n",
       "5                  0                    0\n",
       "6                  1                    0\n",
       "7                  1                    0\n",
       "8                  1                    0\n",
       "9                  1                    0"
      ]
     },
     "execution_count": 46,
     "metadata": {},
     "output_type": "execute_result"
    }
   ],
   "source": [
    "data_set[['Has Table booking', 'Has Online delivery']].head(10)"
   ]
  },
  {
   "cell_type": "code",
   "execution_count": null,
   "id": "79747dec-3324-4bec-b58c-37b66e1cd23f",
   "metadata": {},
   "outputs": [],
   "source": []
  }
 ],
 "metadata": {
  "kernelspec": {
   "display_name": "Python 3 (ipykernel)",
   "language": "python",
   "name": "python3"
  },
  "language_info": {
   "codemirror_mode": {
    "name": "ipython",
    "version": 3
   },
   "file_extension": ".py",
   "mimetype": "text/x-python",
   "name": "python",
   "nbconvert_exporter": "python",
   "pygments_lexer": "ipython3",
   "version": "3.12.7"
  }
 },
 "nbformat": 4,
 "nbformat_minor": 5
}
